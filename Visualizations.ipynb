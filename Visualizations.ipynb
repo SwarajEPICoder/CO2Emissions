{
 "cells": [
  {
   "cell_type": "code",
   "execution_count": 1,
   "metadata": {},
   "outputs": [],
   "source": [
    "import pandas as pd\n",
    "import numpy as np\n",
    "import matplotlib.pyplot as plt\n",
    "from scipy.interpolate import make_interp_spline, BSpline"
   ]
  },
  {
   "cell_type": "code",
   "execution_count": 2,
   "metadata": {},
   "outputs": [
    {
     "data": {
      "text/html": [
       "<div>\n",
       "<style scoped>\n",
       "    .dataframe tbody tr th:only-of-type {\n",
       "        vertical-align: middle;\n",
       "    }\n",
       "\n",
       "    .dataframe tbody tr th {\n",
       "        vertical-align: top;\n",
       "    }\n",
       "\n",
       "    .dataframe thead th {\n",
       "        text-align: right;\n",
       "    }\n",
       "</style>\n",
       "<table border=\"1\" class=\"dataframe\">\n",
       "  <thead>\n",
       "    <tr style=\"text-align: right;\">\n",
       "      <th></th>\n",
       "      <th>Year Total</th>\n",
       "      <th>Gas Fuel</th>\n",
       "      <th>Liquid Fuel</th>\n",
       "      <th>Solid Fuel</th>\n",
       "      <th>Cement</th>\n",
       "      <th>Gas Flaring</th>\n",
       "      <th>Per Capita</th>\n",
       "      <th>Total</th>\n",
       "    </tr>\n",
       "    <tr>\n",
       "      <th>Year</th>\n",
       "      <th></th>\n",
       "      <th></th>\n",
       "      <th></th>\n",
       "      <th></th>\n",
       "      <th></th>\n",
       "      <th></th>\n",
       "      <th></th>\n",
       "      <th></th>\n",
       "    </tr>\n",
       "  </thead>\n",
       "  <tbody>\n",
       "    <tr>\n",
       "      <th>2005</th>\n",
       "      <td>7661</td>\n",
       "      <td>1485</td>\n",
       "      <td>3068</td>\n",
       "      <td>3108</td>\n",
       "      <td>320</td>\n",
       "      <td>60</td>\n",
       "      <td>1.23</td>\n",
       "      <td>298069.0</td>\n",
       "    </tr>\n",
       "    <tr>\n",
       "      <th>2006</th>\n",
       "      <td>7918</td>\n",
       "      <td>1534</td>\n",
       "      <td>3091</td>\n",
       "      <td>3293</td>\n",
       "      <td>356</td>\n",
       "      <td>62</td>\n",
       "      <td>1.26</td>\n",
       "      <td>305987.0</td>\n",
       "    </tr>\n",
       "    <tr>\n",
       "      <th>2007</th>\n",
       "      <td>8055</td>\n",
       "      <td>1562</td>\n",
       "      <td>3071</td>\n",
       "      <td>3422</td>\n",
       "      <td>382</td>\n",
       "      <td>66</td>\n",
       "      <td>1.27</td>\n",
       "      <td>314042.0</td>\n",
       "    </tr>\n",
       "    <tr>\n",
       "      <th>2008</th>\n",
       "      <td>8320</td>\n",
       "      <td>1630</td>\n",
       "      <td>3103</td>\n",
       "      <td>3587</td>\n",
       "      <td>388</td>\n",
       "      <td>69</td>\n",
       "      <td>1.30</td>\n",
       "      <td>322362.0</td>\n",
       "    </tr>\n",
       "    <tr>\n",
       "      <th>2009</th>\n",
       "      <td>8216</td>\n",
       "      <td>1584</td>\n",
       "      <td>3042</td>\n",
       "      <td>3590</td>\n",
       "      <td>415</td>\n",
       "      <td>66</td>\n",
       "      <td>1.27</td>\n",
       "      <td>330578.0</td>\n",
       "    </tr>\n",
       "    <tr>\n",
       "      <th>2010</th>\n",
       "      <td>8615</td>\n",
       "      <td>1696</td>\n",
       "      <td>3107</td>\n",
       "      <td>3812</td>\n",
       "      <td>446</td>\n",
       "      <td>67</td>\n",
       "      <td>1.32</td>\n",
       "      <td>339193.0</td>\n",
       "    </tr>\n",
       "    <tr>\n",
       "      <th>2011</th>\n",
       "      <td>8945</td>\n",
       "      <td>1756</td>\n",
       "      <td>3134</td>\n",
       "      <td>4055</td>\n",
       "      <td>494</td>\n",
       "      <td>64</td>\n",
       "      <td>1.36</td>\n",
       "      <td>348138.0</td>\n",
       "    </tr>\n",
       "    <tr>\n",
       "      <th>2012</th>\n",
       "      <td>9089</td>\n",
       "      <td>1783</td>\n",
       "      <td>3200</td>\n",
       "      <td>4106</td>\n",
       "      <td>519</td>\n",
       "      <td>65</td>\n",
       "      <td>1.36</td>\n",
       "      <td>357227.0</td>\n",
       "    </tr>\n",
       "    <tr>\n",
       "      <th>2013</th>\n",
       "      <td>9152</td>\n",
       "      <td>1806</td>\n",
       "      <td>3220</td>\n",
       "      <td>4126</td>\n",
       "      <td>554</td>\n",
       "      <td>68</td>\n",
       "      <td>1.36</td>\n",
       "      <td>366379.0</td>\n",
       "    </tr>\n",
       "    <tr>\n",
       "      <th>2014</th>\n",
       "      <td>9220</td>\n",
       "      <td>1823</td>\n",
       "      <td>3280</td>\n",
       "      <td>4117</td>\n",
       "      <td>568</td>\n",
       "      <td>68</td>\n",
       "      <td>1.36</td>\n",
       "      <td>375599.0</td>\n",
       "    </tr>\n",
       "  </tbody>\n",
       "</table>\n",
       "</div>"
      ],
      "text/plain": [
       "      Year Total  Gas Fuel  Liquid Fuel  Solid Fuel  Cement  Gas Flaring  \\\n",
       "Year                                                                       \n",
       "2005        7661      1485         3068        3108     320           60   \n",
       "2006        7918      1534         3091        3293     356           62   \n",
       "2007        8055      1562         3071        3422     382           66   \n",
       "2008        8320      1630         3103        3587     388           69   \n",
       "2009        8216      1584         3042        3590     415           66   \n",
       "2010        8615      1696         3107        3812     446           67   \n",
       "2011        8945      1756         3134        4055     494           64   \n",
       "2012        9089      1783         3200        4106     519           65   \n",
       "2013        9152      1806         3220        4126     554           68   \n",
       "2014        9220      1823         3280        4117     568           68   \n",
       "\n",
       "      Per Capita     Total  \n",
       "Year                        \n",
       "2005        1.23  298069.0  \n",
       "2006        1.26  305987.0  \n",
       "2007        1.27  314042.0  \n",
       "2008        1.30  322362.0  \n",
       "2009        1.27  330578.0  \n",
       "2010        1.32  339193.0  \n",
       "2011        1.36  348138.0  \n",
       "2012        1.36  357227.0  \n",
       "2013        1.36  366379.0  \n",
       "2014        1.36  375599.0  "
      ]
     },
     "execution_count": 2,
     "metadata": {},
     "output_type": "execute_result"
    }
   ],
   "source": [
    "df = pd.read_csv('Data/GlobalCO2.csv', index_col='Year')\n",
    "df.tail(10)"
   ]
  },
  {
   "cell_type": "code",
   "execution_count": 3,
   "metadata": {},
   "outputs": [
    {
     "data": {
      "text/plain": [
       "375599"
      ]
     },
     "execution_count": 3,
     "metadata": {},
     "output_type": "execute_result"
    }
   ],
   "source": [
    "sum(\n",
    "    (sum(df['Gas Fuel']), \n",
    "    sum(df['Liquid Fuel']), \n",
    "    sum(df['Solid Fuel']))\n",
    ")"
   ]
  },
  {
   "cell_type": "markdown",
   "metadata": {},
   "source": [
    "Comparing gas, liquid and solid fuels"
   ]
  },
  {
   "cell_type": "code",
   "execution_count": 4,
   "metadata": {},
   "outputs": [
    {
     "data": {
      "application/vnd.jupyter.widget-view+json": {
       "model_id": "a2150593a4084ec48b72c70dda50ec0a",
       "version_major": 2,
       "version_minor": 0
      },
      "text/plain": [
       "Canvas(toolbar=Toolbar(toolitems=[('Home', 'Reset original view', 'home', 'home'), ('Back', 'Back to previous …"
      ]
     },
     "metadata": {},
     "output_type": "display_data"
    }
   ],
   "source": [
    "%matplotlib ipympl\n",
    "\n",
    "plt.figure(figsize=(7.5, 5))\n",
    "\n",
    "plt.plot(df.index, df['Gas Fuel'], label='Gas Fuel')\n",
    "plt.plot(df.index, df['Liquid Fuel'], label='Liquid Fuel')\n",
    "plt.plot(df.index, df['Solid Fuel'], label='Solid Fuel')\n",
    "\n",
    "plt.xlabel('Year')\n",
    "plt.ylabel('CO2 Emissions\\n (Millions of Metric Tonnes)')\n",
    "plt.title('Gas vs Liquid vs Solid Fuel')\n",
    "\n",
    "plt.legend()\n",
    "\n",
    "plt.savefig('Figures/Figure1.png')"
   ]
  },
  {
   "cell_type": "code",
   "execution_count": 5,
   "metadata": {},
   "outputs": [
    {
     "data": {
      "application/vnd.jupyter.widget-view+json": {
       "model_id": "3a1752a512854163a418d026ea0f47d1",
       "version_major": 2,
       "version_minor": 0
      },
      "text/plain": [
       "Canvas(toolbar=Toolbar(toolitems=[('Home', 'Reset original view', 'home', 'home'), ('Back', 'Back to previous …"
      ]
     },
     "metadata": {},
     "output_type": "display_data"
    }
   ],
   "source": [
    "plt.figure(figsize=(8, 5))\n",
    "categories = ['Solid Fuel', 'Liquid Fuel', 'Gas Fuel']\n",
    "totals = [sum(df['Solid Fuel']), \n",
    "        sum(df['Liquid Fuel']), \n",
    "        sum(df['Gas Fuel'])]\n",
    "colors = ['green', 'orange', 'blue']\n",
    "for category, total, color in zip(categories, totals, colors):\n",
    "    plt.bar(category, total, label=category, color=color)\n",
    "    \n",
    "    \n",
    "plt.xlabel('Type of Fuel')\n",
    "plt.ylabel('CO2 Emissions\\n (Millions of Metric Tonnes)')\n",
    "plt.title('Gas vs Liquid vs Solid Fuel')\n",
    "\n",
    "plt.legend()\n",
    "\n",
    "plt.savefig('Figures/Figure2.png')"
   ]
  },
  {
   "cell_type": "code",
   "execution_count": 6,
   "metadata": {},
   "outputs": [
    {
     "name": "stdout",
     "output_type": "stream",
     "text": [
      "\n",
      "\n"
     ]
    },
    {
     "data": {
      "application/vnd.jupyter.widget-view+json": {
       "model_id": "c7e1bd8313a94d1fbe5f2306f94c13d6",
       "version_major": 2,
       "version_minor": 0
      },
      "text/plain": [
       "Canvas(toolbar=Toolbar(toolitems=[('Home', 'Reset original view', 'home', 'home'), ('Back', 'Back to previous …"
      ]
     },
     "metadata": {},
     "output_type": "display_data"
    }
   ],
   "source": [
    "\n",
    "colors = ['green', 'orange', 'blue']\n",
    "totals = [sum(df['Solid Fuel']), \n",
    "        sum(df['Liquid Fuel']), \n",
    "        sum(df['Gas Fuel'])]\n",
    "categories = [f\"Solid Fuel({round(sum(df['Solid Fuel']) / sum(df['Year Total'])*100, 2)}%)\", \n",
    "              f\"Liquid Fuel({round(sum(df['Liquid Fuel']) / sum(df['Year Total'])*100, 2)}%)\", \n",
    "              f\"Gas Fuel({round(sum(df['Gas Fuel']) / sum(df['Year Total'])*100, 2)}%)\"]\n",
    "print('\\n')\n",
    "plt.figure(figsize=(7.5, 5)) \n",
    "plt.pie(totals, labels=categories, colors=colors, startangle=-60)\n",
    "\n",
    "plt.title('Gas vs Liquid vs Solid Fuel')\n",
    "plt.savefig('Figures/Figure3.png')"
   ]
  },
  {
   "cell_type": "code",
   "execution_count": null,
   "metadata": {},
   "outputs": [],
   "source": []
  },
  {
   "cell_type": "markdown",
   "metadata": {},
   "source": [
    "Look into the change of emissions"
   ]
  },
  {
   "cell_type": "code",
   "execution_count": 7,
   "metadata": {},
   "outputs": [
    {
     "data": {
      "application/vnd.jupyter.widget-view+json": {
       "model_id": "298c527db95e443b9bbcb536c3f252da",
       "version_major": 2,
       "version_minor": 0
      },
      "text/plain": [
       "Canvas(toolbar=Toolbar(toolitems=[('Home', 'Reset original view', 'home', 'home'), ('Back', 'Back to previous …"
      ]
     },
     "metadata": {},
     "output_type": "display_data"
    }
   ],
   "source": [
    "plt.figure(figsize=(8.7,5))\n",
    "plt.plot(df.index, df['Year Total'], color='red')\n",
    "\n",
    "plt.xlabel('\\nYear')\n",
    "plt.ylabel('CO2 Emissions\\n (Millions of Metric Tonnes)')\n",
    "plt.title('Total(Gas, Liquid and Solid Fuel) Emissions \\n Produced Every Year ')\n",
    "\n",
    "plt.savefig('Figures/Figure4')"
   ]
  },
  {
   "cell_type": "code",
   "execution_count": 8,
   "metadata": {},
   "outputs": [],
   "source": [
    "decade1 = df.loc[1950:1959]\n",
    "decade2 = df.loc[1960:1969]\n",
    "decade3 = df.loc[1970:1979]\n",
    "decade4 = df.loc[1980:1990]\n",
    "decade5 = df.loc[1990:1999]\n",
    "decade6 = df.loc[2000:2009]\n",
    "decades = {'1950-1960': decade1,\n",
    "          '1960-1970': decade2,\n",
    "          '1970-1980': decade3,\n",
    "          '1980-1990': decade4,\n",
    "          '1990-2000': decade5,\n",
    "          '2000-2010': decade6}"
   ]
  },
  {
   "cell_type": "code",
   "execution_count": 9,
   "metadata": {},
   "outputs": [
    {
     "data": {
      "application/vnd.jupyter.widget-view+json": {
       "model_id": "b1a1e42296fe4af4b8e36436d9c20624",
       "version_major": 2,
       "version_minor": 0
      },
      "text/plain": [
       "Canvas(toolbar=Toolbar(toolitems=[('Home', 'Reset original view', 'home', 'home'), ('Back', 'Back to previous …"
      ]
     },
     "metadata": {},
     "output_type": "display_data"
    }
   ],
   "source": [
    "plt.figure(figsize=(8.5, 5))\n",
    "\n",
    "\n",
    "for decade_name in decades:\n",
    "    decade = decades[decade_name]\n",
    "    plt.bar(decade_name, sum(decade['Year Total']), color='red')\n",
    "\n",
    "plt.xlabel('\\nDecade')\n",
    "plt.ylabel('CO2 Emissions\\n (Millions of Metric Tonnes)')\n",
    "plt.title('Comparing Amount of Emissions \\n Every Decade')\n",
    "plt.savefig('Figures/Figure5')\n"
   ]
  },
  {
   "cell_type": "code",
   "execution_count": 10,
   "metadata": {},
   "outputs": [
    {
     "data": {
      "application/vnd.jupyter.widget-view+json": {
       "model_id": "0f30ac44d94a4c8f82806146cf36ea9a",
       "version_major": 2,
       "version_minor": 0
      },
      "text/plain": [
       "Canvas(toolbar=Toolbar(toolitems=[('Home', 'Reset original view', 'home', 'home'), ('Back', 'Back to previous …"
      ]
     },
     "metadata": {},
     "output_type": "display_data"
    }
   ],
   "source": [
    "plt.figure(figsize=(8.7, 5))\n",
    "\n",
    "total_year_df = df['Year Total']\n",
    "plt.plot(df.index, total_year_df, label='Normal')\n",
    "plt.plot(df.index, total_year_df.rolling(3).mean(), label='Mean of 3 years')\n",
    "plt.plot(df.index, total_year_df.rolling(5).mean(), label='Mean of 5 years')\n",
    "plt.plot(df.index, total_year_df.rolling(10).mean(), label='Mean of a decade')\n",
    "plt.plot(df.index, total_year_df.rolling(15).mean(), label='Mean of 15 years')\n",
    "plt.plot(df.index, total_year_df.rolling(3).mean(), label='Mean of 20 years')\n",
    "plt.legend()\n",
    "plt.title('Comparing Moving Averages of \\n Different Window Sizes')\n",
    "plt.xlabel('Year')\n",
    "plt.ylabel('CO2 Emissions\\n (Millions of Metric Tonnes)')\n",
    "plt.savefig('Figures/Figure6.png')"
   ]
  },
  {
   "cell_type": "code",
   "execution_count": 11,
   "metadata": {},
   "outputs": [
    {
     "data": {
      "application/vnd.jupyter.widget-view+json": {
       "model_id": "5dfb105da45c4057bf0be28c4d5d9f55",
       "version_major": 2,
       "version_minor": 0
      },
      "text/plain": [
       "Canvas(toolbar=Toolbar(toolitems=[('Home', 'Reset original view', 'home', 'home'), ('Back', 'Back to previous …"
      ]
     },
     "metadata": {},
     "output_type": "display_data"
    }
   ],
   "source": [
    "plt.figure(figsize=(8.7,5))\n",
    "plt.plot(df.index, df['Year Total'], color='brown')\n",
    "\n",
    "plt.xlabel('\\nYear')\n",
    "plt.ylabel('CO2 Emissions\\n (Millions of Metric Tonnes)')\n",
    "plt.title('Total(Gas, Liquid and Solid Fuel) Emissions \\n Produced from 1950-2014 ')\n",
    "\n",
    "plt.savefig('Figures/Figure7.png')"
   ]
  },
  {
   "cell_type": "code",
   "execution_count": 12,
   "metadata": {},
   "outputs": [
    {
     "data": {
      "application/vnd.jupyter.widget-view+json": {
       "model_id": "1409dcc364f740059fcf9a15a0111bb3",
       "version_major": 2,
       "version_minor": 0
      },
      "text/plain": [
       "Canvas(toolbar=Toolbar(toolitems=[('Home', 'Reset original view', 'home', 'home'), ('Back', 'Back to previous …"
      ]
     },
     "metadata": {},
     "output_type": "display_data"
    }
   ],
   "source": [
    "plt.figure(figsize=(8.7,5))\n",
    "plt.plot(df.index, df['Per Capita'], color='red')\n",
    "\n",
    "plt.xlabel('\\nYear')\n",
    "plt.ylabel('Per Capita CO2 Emissions\\n (Metric Tonnes)')\n",
    "plt.title('Per Capita Emissions \\n Produced Every Year \\n(From 1950) ')\n",
    "\n",
    "plt.savefig('Figures/Figure8.png')"
   ]
  },
  {
   "cell_type": "code",
   "execution_count": null,
   "metadata": {},
   "outputs": [],
   "source": []
  }
 ],
 "metadata": {
  "kernelspec": {
   "display_name": "Python 3",
   "language": "python",
   "name": "python3"
  },
  "language_info": {
   "codemirror_mode": {
    "name": "ipython",
    "version": 3
   },
   "file_extension": ".py",
   "mimetype": "text/x-python",
   "name": "python",
   "nbconvert_exporter": "python",
   "pygments_lexer": "ipython3",
   "version": "3.8.3"
  }
 },
 "nbformat": 4,
 "nbformat_minor": 4
}
